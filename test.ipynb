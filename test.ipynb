{
 "cells": [
  {
   "cell_type": "code",
   "execution_count": 105,
   "metadata": {},
   "outputs": [],
   "source": [
    "import os\n",
    "import qdrant_client\n",
    "from dotenv import load_dotenv\n",
    "from langchain.vectorstores import Qdrant \n",
    "from langchain.embeddings.openai import OpenAIEmbeddings\n",
    "from langchain.document_loaders.csv_loader import CSVLoader\n",
    "from langchain.llms import OpenAI\n",
    "from langchain.chains import RetrievalQA, RetrievalQAWithSourcesChain"
   ]
  },
  {
   "cell_type": "code",
   "execution_count": 106,
   "metadata": {},
   "outputs": [],
   "source": [
    "# load enviorment variables\n",
    "\n",
    "load_dotenv()\n",
    "\n",
    "QDRANT_URL = os.getenv('QDRANT_URL')\n",
    "QDRANT_API_KEY = os.getenv('QDRANT_API_KEY')\n",
    "COLLECTION_NAME = os.getenv('COLLECTION_NAME')\n",
    "OPENAI_API_KEY = os.getenv('OPENAI_API_KEY')"
   ]
  },
  {
   "cell_type": "code",
   "execution_count": 107,
   "metadata": {},
   "outputs": [
    {
     "name": "stdout",
     "output_type": "stream",
     "text": [
      "big-basket-products\n"
     ]
    }
   ],
   "source": [
    "print(COLLECTION_NAME)"
   ]
  },
  {
   "cell_type": "code",
   "execution_count": 108,
   "metadata": {},
   "outputs": [],
   "source": [
    "# create a qdrant client\n",
    "\n",
    "client = qdrant_client.QdrantClient(\n",
    "    url=QDRANT_URL,\n",
    "    api_key=QDRANT_API_KEY\n",
    ")\n"
   ]
  },
  {
   "cell_type": "code",
   "execution_count": 109,
   "metadata": {},
   "outputs": [],
   "source": [
    "# create vector store\n",
    "\n",
    "embeddings = OpenAIEmbeddings()\n",
    "\n",
    "vector_store = Qdrant(\n",
    "    client=client,\n",
    "    collection_name=COLLECTION_NAME,\n",
    "    embeddings=embeddings,\n",
    ")"
   ]
  },
  {
   "cell_type": "code",
   "execution_count": 103,
   "metadata": {},
   "outputs": [
    {
     "name": "stdout",
     "output_type": "stream",
     "text": [
      "Extracted data/bigBasketProducts.csv with 100 pages...\n",
      "index: 1\n",
      "product: Garlic Oil - Vegetarian Capsule 500 mg\n",
      "category: Beauty & Hygiene\n",
      "sub_category: Hair Care\n",
      "brand: Sri Sri Ayurveda\n",
      "sale_price: 220\n",
      "market_price: 220\n",
      "type: Hair Oil & Serum\n",
      "rating: 4.1\n",
      "description: This Product contains Garlic Oil that is known to help proper digestion, maintain proper cholesterol levels, support cardiovascular and also build immunity.  For Beauty tips, tricks & more visit https://bigbasket.blog/\n",
      "{'source': '4.1', 'row': 0}\n",
      "0\n"
     ]
    }
   ],
   "source": [
    "# load documents\n",
    "\n",
    "file_path = os.getenv('FILE_PATH')\n",
    "\n",
    "loader = CSVLoader(file_path=file_path, source_column=('rating'), csv_args={'delimiter': ','}, autodetect_encoding=True)\n",
    "documents = loader.load()\n",
    "documents = documents[:100]\n",
    "# docs = get_chunks(documents)\n",
    "\n",
    "print(f\"Extracted {file_path} with {len(documents)} pages...\")\n",
    "print(documents[0].page_content)\n",
    "print(documents[0].metadata)\n",
    "print(documents[0].metadata['row'])\n",
    "\n",
    "docs = [doc.page_content for doc in documents]\n",
    "metadatas = [doc.metadata for doc in documents]"
   ]
  },
  {
   "cell_type": "code",
   "execution_count": 104,
   "metadata": {},
   "outputs": [
    {
     "data": {
      "text/plain": [
       "['932983619c93414ba6a8014db9be3374',\n",
       " 'a25b60a3bd774697b2362fe13f8dee0d',\n",
       " '611f4a57b9654682abde571b6261d47b',\n",
       " '4bfa496be0984c18b4bf4cf5913f0ee0',\n",
       " '1c6ca885a453436e807ee7ba8630a87c',\n",
       " '17e08483a0f84234adf4d7cab4dee68f',\n",
       " '053117af6a5c4d28ba9effa98fbdca7f',\n",
       " 'a58636ed9d354a16bb3e4acbcaded887',\n",
       " 'b251cff6c936445dbdc278dd03cde3f5',\n",
       " 'cc9bf223dee9469dae9eb8d9e51a82d4',\n",
       " '549b0a34460e486d9d33772ad7fd4141',\n",
       " '9d937e5d1cbc411aa849f61cd3655f79',\n",
       " '4be0b3166286460ba215daf7b61527a9',\n",
       " '3e629f130fe8458ead9f4e784ffabc86',\n",
       " '8694dbbff9aa4a0bbd2e7d3521cedd98',\n",
       " '212a0d92a8154cdcb1cffee2862916f0',\n",
       " '46d973e4d04f477e991733016c33d474',\n",
       " 'e7db011a1dd34c09a8d4f5048af5ba0a',\n",
       " '58c04c2ea10542b181c6321dd2271e5f',\n",
       " 'a3084f51da604004af028975b64780e4',\n",
       " '506845d8753f4c70b93339ad89dcd7a3',\n",
       " '6ce9fc8935394325976d8aeadedcaf7a',\n",
       " '1cd79d73be084ef6925092e7bc5d7759',\n",
       " '53d1f00bf86b4e48b35c48042ceeb408',\n",
       " 'a30bfae9c8024e13a04d358fa123826a',\n",
       " '9e74fb36f5644edda788debc22468f7a',\n",
       " '21e56ebfa3ee4f3096715ca9d690bcf1',\n",
       " 'd415114e4a724f258ba7eb692c47d238',\n",
       " '8bf5f6f5441e427487069e172c4ffa03',\n",
       " '9dee160072894f65a898f666a20e4e99',\n",
       " '2d46cdd7f1d641aa9ea85a07897ddf94',\n",
       " '2599ba24453a4b7684e64ccc795d847f',\n",
       " '7dbdb53e922d47c6bb9f14d6d94230db',\n",
       " 'b1b58b4f17c148cdb04ccec91d6c03f5',\n",
       " '64fa8348f089494d960c40c137e300b7',\n",
       " '161dcd07fcbf48e0b0d6b5527ee2c0be',\n",
       " 'b95abebaa85c43b99af6b7108d37fc25',\n",
       " '7c72d153a0e4470e8457ddef5ef39070',\n",
       " 'a8bd8f203d74406d9154e2d0d7163770',\n",
       " '079a5fd0bb0f45bca17da08768ed93d4',\n",
       " '1bf0010a4be64e859bc0812f1034cda6',\n",
       " '466e24d681374d92ba225dc656bd0521',\n",
       " '9abfef78a1bf4e848823419c257a0724',\n",
       " '1ff1338d7ee54967b14d1f40d43314b5',\n",
       " 'd461a9410aad4944b48652a113dde143',\n",
       " '1fdb700af27f4d658420e0355e2ec8cc',\n",
       " '19ca067253d1411cacd776948d951bf0',\n",
       " '091fa2ba3b574ab4aa9cec6eca8b50c8',\n",
       " '9a51372149a94aefab12051b25c80326',\n",
       " 'fd6841acca3a408282ce721fa4c8d25e',\n",
       " 'a75712887a7d48efb51be682be318624',\n",
       " '6bd87ad6631d476b86b6f004ae7220c8',\n",
       " 'a2284261141045108908123a4fd6af78',\n",
       " 'b2264c7e5ba24e918fb956796c0cf62c',\n",
       " 'fa4ced326f5e40f69e7222cac24fe6c2',\n",
       " 'a692062a641b462485ffe3349a9ccfcf',\n",
       " '8fe3e1c165094c098a90ce92090acf8c',\n",
       " 'd183c5419ba1413cb1c0e262dfbba9ed',\n",
       " 'bb20ebcfb45549d3951543a6ca85c760',\n",
       " 'c96710e313354278a53cc657b9a7684d',\n",
       " 'c9f087f279824216ad5196e6532bf210',\n",
       " 'fa007cbaf52e417a8006889d871d96f7',\n",
       " '711004e570ba497db4e071a03e8f5d56',\n",
       " '8cfaacf93f734f55b5a62c8fb79052b8',\n",
       " 'a9bc44b14a654891b020c5e3f586fd9d',\n",
       " '6181ce457b204fb49c5983fad5239673',\n",
       " 'f8e89dfcaab34583a3c9fed824cc8caa',\n",
       " '9e7a0e957bbe41e2b84d2670174fe73a',\n",
       " 'd790447bc23b4782a5ca0380d0ede33f',\n",
       " 'ba93921507f64adbb44cacb763c8e041',\n",
       " '77787ab569db4c129a2135ce6b6baa9d',\n",
       " '15c24dd17b57411491c1bbae86d36b52',\n",
       " '51d5472d2d574c5b8d444de051a91ea7',\n",
       " 'f6a3e587ffe543c7ac83176467842d47',\n",
       " 'd0863a8aa32141d7b6e03185283c3368',\n",
       " 'e9f1c23855384ee6b9e39d572f5a3615',\n",
       " '28017708c0bc409b8a5f8db1053b4e30',\n",
       " '60b575a4e875417684570d087f1b05bc',\n",
       " 'c9475318dd1e4a8bb8d782a59d1fb802',\n",
       " 'd838860049b946b3b3d877b8bab6bc06',\n",
       " 'a725a4f3eec84fa384806fc36f742e87',\n",
       " '05500e87029c4077b466622304c5388b',\n",
       " '03052db4d2414ab4a6a21fc27ad4895a',\n",
       " '7f0caa45c96c4d37b40f60afd68c4764',\n",
       " '68843b2df8984361bc238bee81f1f402',\n",
       " 'be127d8ebd5e4ff394a7fd566c43e9c6',\n",
       " '82f09241d05d47b3b2ff1ee52d5a10e3',\n",
       " 'b86ffbf31cd24fab8a53a712e0d6ecfd',\n",
       " '156b84c4063f43c3a8bfe9e5c80f182f',\n",
       " '51954083504a4485a06ce2921d5adb78',\n",
       " '4c945005c15545f7abe913b0023bb8d7',\n",
       " '691716f293814e0b9ac5b159e166b3f5',\n",
       " 'd8ca2456a1a549e8ad6af2fe3136ae2b',\n",
       " '02019e498bd94129890edb16da95f1b1',\n",
       " '48d2e402e71344e6b6926af7963c31ba',\n",
       " '9a00d8ac57894aabb739b19aa65131a4',\n",
       " 'ba0be43e41654b0cb8526455dfa5a7d0',\n",
       " '77fa1041435848d088653ff81d8e8579',\n",
       " '82df196d81a241a29fe62e5e64ac9555',\n",
       " 'ac1803d5774d4471945cf034afee86b1']"
      ]
     },
     "execution_count": 104,
     "metadata": {},
     "output_type": "execute_result"
    }
   ],
   "source": [
    "# add documents to vector store\n",
    "\n",
    "vector_store.add_texts(\n",
    "    texts=docs,\n",
    "    metadatas=metadatas,\n",
    ")"
   ]
  },
  {
   "cell_type": "code",
   "execution_count": 110,
   "metadata": {},
   "outputs": [],
   "source": [
    "# plug vector store into retrieval chain\n",
    "\n",
    "llm = OpenAI(openai_api_key=OPENAI_API_KEY)\n",
    "\n",
    "qa = RetrievalQA.from_chain_type(\n",
    "    llm=llm,\n",
    "    chain_type=\"stuff\",\n",
    "    retriever=vector_store.as_retriever(),\n",
    ")"
   ]
  },
  {
   "cell_type": "code",
   "execution_count": 82,
   "metadata": {},
   "outputs": [
    {
     "name": "stdout",
     "output_type": "stream",
     "text": [
      "> What is the best product for hair growth?\n",
      " It depends on the person and their hair type. Biotin & Collagen Volumizing Hair Shampoo + Biotin & Collagen Hair Conditioner by StBotanica and Argan-Liquid Gold Hair Spa by Aroma Treasures are both good options for strengthening and nourishing hair.\n",
      "\n"
     ]
    }
   ],
   "source": [
    "question = 'What is the best product for hair growth?'\n",
    "print('>', question)\n",
    "print(qa.run(question), end=\"\\n\\n\")"
   ]
  },
  {
   "cell_type": "code",
   "execution_count": 111,
   "metadata": {},
   "outputs": [],
   "source": [
    "qa = RetrievalQAWithSourcesChain.from_chain_type(\n",
    "    llm=llm,\n",
    "    chain_type=\"stuff\",\n",
    "    retriever=vector_store.as_retriever(search_kwargs={'k':2}),\n",
    "    return_source_documents=True\n",
    ")"
   ]
  },
  {
   "cell_type": "code",
   "execution_count": 114,
   "metadata": {},
   "outputs": [],
   "source": [
    "res = qa({\"question\": question})"
   ]
  },
  {
   "cell_type": "code",
   "execution_count": 118,
   "metadata": {},
   "outputs": [
    {
     "name": "stdout",
     "output_type": "stream",
     "text": [
      "question: What is the best product for hair growth?\n",
      "answer:  The best product for hair growth appears to be the \"Biotin & Collagen Volumizing Hair Shampoo + Biotin & Collagen Hair Conditioner\" from StBotanica, which has a rating of 3.5.\n",
      "\n",
      "sources: 3.5, 4.4\n",
      "source_documents: [Document(page_content='index: 9\\nproduct: Biotin & Collagen Volumizing Hair Shampoo + Biotin & Collagen Hair Conditioner\\ncategory: Beauty & Hygiene\\nsub_category: Hair Care\\nbrand: StBotanica\\nsale_price: 1098\\nmarket_price: 1098\\ntype: Shampoo & Conditioner\\nrating: 3.5\\ndescription: An exclusive blend with Vitamin B7 Biotin, Hydrolyzed collagen, Oat Extract along with premium & organic cold-pressed ingredients helps to infuse nutrients into every strand and creates the appearance of thicker, fuller healthier looking hair. This powerful formula helps volumize even the skinniest strands into fuller and more abundant looking locks. It is safe for color-treated hair and safe for all hair types. St Botanica Biotin & Collagen Hair Conditioner has been specially formulated to repair dry & damaged hair for full, thick, voluminous, shiny & healthy looking hair! The amazing hair conditioner ingredients include Biotin, Hydrolyzed Collagen, Pro-Vitamin B5, Vitamin E, & Hydrolyzed Silk Proteins for glistening looking hair. Biotin and Collagen, infused with most efficacious natural extracts not only promotes healthy hair growth but also prevents hair dryness, increases the elasticity of the hair cortex, thereby strengthening hair, minimizing hair breakage and helping hair grow longer, healthier and thicker. PLUMP IT UP: the nutrient-rich, plump-it-up power of this haircare infused with ProVitamin B7 biotin and collagen helps give each strand of hair a beautiful boost, this dynamic duo will leave your hair feeling thicker, fuller, and looking oh, so healthy.', metadata={'row': 8, 'source': '3.5'}), Document(page_content='index: 58\\nproduct: Argan-Liquid Gold Hair Spa\\ncategory: Beauty & Hygiene\\nsub_category: Hair Care\\nbrand: Aroma Treasures\\nsale_price: 199.5\\nmarket_price: 210\\ntype: Hair & Scalp Treatment\\nrating: 4.4\\ndescription: Our beautifully crafted Hair Spa Collection promises to be the perfect solution for nourishing and rejuvenating your tresses. Made with Argan Oil it revives moisture in the dull dry hair, reduces frizz, smooths unmanageable locks of curly hair, deeply nurtures hair shafts & follicles to prevent hair fall, repair split ends and strengthens the roots!Revitalising Hair Oil - The luxurious fusion of Moroccan Argan Oil, Sesame Oil, Olive Oil, Lavender and Geranium provides intense nutrition to revitalize dry and damaged hair.Follikare Wash - Precious blend of Moroccan Argan Oil, Hibiscus, and Ylang Ylang nudges away sebum to strengthen the hair follicles and improve hair growth.Follikare Deep Conditioning Mask - Perfect balance of Moroccan Argan Oil, Patchouli and Shea Butter restores hairs natural luster and provide deep nourishment to brittle, weak and frizzy locks.Restorative Nourishing Tonic - Exotic elixir of Moroccan Argan Oil, Chamomile, Watercress and Sage Extracts strengthens the root to prevent hair fall, enhance the volume and silken the texture of hair.Satin Feel Leave-On - Potent serum of Moroccan Argan Oil and Vitamin E repairs damaged hair strands, while moisturises and smoothens unmanageable dry frizzy hair.Argan - Liquid Gold - Aroma Treasures brings to you an exclusive Hair Spa Collection enriched with Argan Oil extracted from the kernels of Moroccos Argan tree.', metadata={'row': 57, 'source': '4.4'})]\n",
      "\n"
     ]
    }
   ],
   "source": [
    "pretty_printed_dict = \"\"\n",
    "\n",
    "for key, value in res.items():\n",
    "    pretty_printed_dict += key + \": \" + str(value) + \"\\n\"\n",
    "\n",
    "print(pretty_printed_dict)"
   ]
  },
  {
   "cell_type": "code",
   "execution_count": 134,
   "metadata": {},
   "outputs": [
    {
     "name": "stdout",
     "output_type": "stream",
     "text": [
      "index: 58\n",
      "product: Argan-Liquid Gold Hair Spa\n",
      "category: Beauty & Hygiene\n",
      "sub_category: Hair Care\n",
      "brand: Aroma Treasures\n",
      "sale_price: 199.5\n",
      "market_price: 210\n",
      "type: Hair & Scalp Treatment\n",
      "rating: 4.4\n",
      "description: Our beautifully crafted Hair Spa Collection promises to be the perfect solution for nourishing and rejuvenating your tresses. Made with Argan Oil it revives moisture in the dull dry hair, reduces frizz, smooths unmanageable locks of curly hair, deeply nurtures hair shafts & follicles to prevent hair fall, repair split ends and strengthens the roots!Revitalising Hair Oil - The luxurious fusion of Moroccan Argan Oil, Sesame Oil, Olive Oil, Lavender and Geranium provides intense nutrition to revitalize dry and damaged hair.Follikare Wash - Precious blend of Moroccan Argan Oil, Hibiscus, and Ylang Ylang nudges away sebum to strengthen the hair follicles and improve hair growth.Follikare Deep Conditioning Mask - Perfect balance of Moroccan Argan Oil, Patchouli and Shea Butter restores hairs natural luster and provide deep nourishment to brittle, weak and frizzy locks.Restorative Nourishing Tonic - Exotic elixir of Moroccan Argan Oil, Chamomile, Watercress and Sage Extracts strengthens the root to prevent hair fall, enhance the volume and silken the texture of hair.Satin Feel Leave-On - Potent serum of Moroccan Argan Oil and Vitamin E repairs damaged hair strands, while moisturises and smoothens unmanageable dry frizzy hair.Argan - Liquid Gold - Aroma Treasures brings to you an exclusive Hair Spa Collection enriched with Argan Oil extracted from the kernels of Moroccos Argan tree.\n"
     ]
    }
   ],
   "source": [
    "src = res['source_documents'][1].page_content\n",
    "print(src)"
   ]
  },
  {
   "cell_type": "code",
   "execution_count": 122,
   "metadata": {},
   "outputs": [
    {
     "name": "stdout",
     "output_type": "stream",
     "text": [
      "{'index': '9', 'product': 'Biotin & Collagen Volumizing Hair Shampoo + Biotin & Collagen Hair Conditioner', 'category': 'Beauty & Hygiene', 'sub_category': 'Hair Care', 'brand': 'StBotanica', 'sale_price': '1098', 'market_price': '1098', 'type': 'Shampoo & Conditioner', 'rating': '3.5', 'description': 'An exclusive blend with Vitamin B7 Biotin, Hydrolyzed collagen, Oat Extract along with premium & organic cold-pressed ingredients helps to infuse nutrients into every strand and creates the appearance of thicker, fuller healthier looking hair. This powerful formula helps volumize even the skinniest strands into fuller and more abundant looking locks. It is safe for color-treated hair and safe for all hair types. St Botanica Biotin & Collagen Hair Conditioner has been specially formulated to repair dry & damaged hair for full, thick, voluminous, shiny & healthy looking hair! The amazing hair conditioner ingredients include Biotin, Hydrolyzed Collagen, Pro-Vitamin B5, Vitamin E, & Hydrolyzed Silk Proteins for glistening looking hair. Biotin and Collagen, infused with most efficacious natural extracts not only promotes healthy hair growth but also prevents hair dryness, increases the elasticity of the hair cortex, thereby strengthening hair, minimizing hair breakage and helping hair grow longer, healthier and thicker. PLUMP IT UP'}\n"
     ]
    }
   ],
   "source": [
    "key_value = src.split(\"\\n\")\n",
    "\n",
    "dict = {}\n",
    "\n",
    "for v in key_value:\n",
    "    aux = v.split(\": \")\n",
    "    dict[aux[0]] = aux[1]\n",
    "\n",
    "print(dict)"
   ]
  },
  {
   "cell_type": "code",
   "execution_count": 123,
   "metadata": {},
   "outputs": [],
   "source": [
    "srcs = [row.page_content for row in res['source_documents']]\n",
    "\n",
    "dicts = []\n",
    "for src in srcs:\n",
    "    key_value = src.split(\"\\n\")\n",
    "    dict = {}\n",
    "    for v in key_value:\n",
    "        aux = v.split(\": \")\n",
    "        dict[aux[0]] = aux[1]\n",
    "    dicts.append(dict)"
   ]
  },
  {
   "cell_type": "code",
   "execution_count": 133,
   "metadata": {},
   "outputs": [
    {
     "data": {
      "text/html": [
       "<div>\n",
       "<style scoped>\n",
       "    .dataframe tbody tr th:only-of-type {\n",
       "        vertical-align: middle;\n",
       "    }\n",
       "\n",
       "    .dataframe tbody tr th {\n",
       "        vertical-align: top;\n",
       "    }\n",
       "\n",
       "    .dataframe thead th {\n",
       "        text-align: right;\n",
       "    }\n",
       "</style>\n",
       "<table border=\"1\" class=\"dataframe\">\n",
       "  <thead>\n",
       "    <tr style=\"text-align: right;\">\n",
       "      <th></th>\n",
       "      <th>product</th>\n",
       "      <th>brand</th>\n",
       "      <th>sale_price</th>\n",
       "      <th>rating</th>\n",
       "      <th>description</th>\n",
       "    </tr>\n",
       "  </thead>\n",
       "  <tbody>\n",
       "    <tr>\n",
       "      <th>0</th>\n",
       "      <td>Biotin &amp; Collagen Volumizing Hair Shampoo + Bi...</td>\n",
       "      <td>StBotanica</td>\n",
       "      <td>1098</td>\n",
       "      <td>3.5</td>\n",
       "      <td>An exclusive blend with Vitamin B7 Biotin, Hyd...</td>\n",
       "    </tr>\n",
       "    <tr>\n",
       "      <th>1</th>\n",
       "      <td>Argan-Liquid Gold Hair Spa</td>\n",
       "      <td>Aroma Treasures</td>\n",
       "      <td>199.5</td>\n",
       "      <td>4.4</td>\n",
       "      <td>Our beautifully crafted Hair Spa Collection pr...</td>\n",
       "    </tr>\n",
       "  </tbody>\n",
       "</table>\n",
       "</div>"
      ],
      "text/plain": [
       "                                             product            brand  \\\n",
       "0  Biotin & Collagen Volumizing Hair Shampoo + Bi...       StBotanica   \n",
       "1                         Argan-Liquid Gold Hair Spa  Aroma Treasures   \n",
       "\n",
       "  sale_price rating                                        description  \n",
       "0       1098    3.5  An exclusive blend with Vitamin B7 Biotin, Hyd...  \n",
       "1      199.5    4.4  Our beautifully crafted Hair Spa Collection pr...  "
      ]
     },
     "metadata": {},
     "output_type": "display_data"
    }
   ],
   "source": [
    "import pandas as pd\n",
    "\n",
    "df = pd.DataFrame(dicts)\n",
    "# df.set_index('product', inplace=True)\n",
    "\n",
    "\n",
    "df1 = df[['product','brand', 'sale_price', 'rating', 'description']]\n",
    "display(df1)"
   ]
  },
  {
   "cell_type": "code",
   "execution_count": 8,
   "metadata": {},
   "outputs": [],
   "source": [
    "from qdrant_client import QdrantClient\n",
    "from sentence_transformers import SentenceTransformer\n",
    "\n",
    "class NeuralSearcher:\n",
    "    def __init__(self, collection_name):\n",
    "        self.collection_name = collection_name\n",
    "        # Initialize encoder model\n",
    "        self.model = SentenceTransformer(\"all-MiniLM-L6-v2\", device=\"cpu\")\n",
    "        # initialize Qdrant client\n",
    "        self.qdrant_client = QdrantClient(\n",
    "                url=QDRANT_URL,\n",
    "                api_key=QDRANT_API_KEY\n",
    "            ) \n",
    "\n",
    "    def search(self, text: str):\n",
    "            # Convert text query into vector\n",
    "            vector = self.model.encode(text).tolist()\n",
    "\n",
    "            # Use `vector` for search for closest vectors in the collection\n",
    "            search_result = self.qdrant_client.search(\n",
    "                collection_name=self.collection_name,\n",
    "                query_vector=vector,\n",
    "                query_filter=None,  # If you don't want any filters for now\n",
    "                limit=5  # 5 the most closest results is enough\n",
    "            )\n",
    "            # `search_result` contains found vector ids with similarity scores along with the stored payload\n",
    "            # In this function you are interested in payload only\n",
    "            payloads = [hit.payload for hit in search_result]\n",
    "            return payloads\n",
    "\n",
    "neural_searcher = NeuralSearcher(collection_name=COLLECTION_NAME)"
   ]
  },
  {
   "cell_type": "code",
   "execution_count": 11,
   "metadata": {},
   "outputs": [
    {
     "name": "stdout",
     "output_type": "stream",
     "text": [
      "[]\n"
     ]
    }
   ],
   "source": [
    "res = neural_searcher.search(\"Any product?\")\n",
    "print(res)"
   ]
  },
  {
   "cell_type": "code",
   "execution_count": null,
   "metadata": {},
   "outputs": [],
   "source": [
    "from fastapi import FastAPI"
   ]
  },
  {
   "cell_type": "code",
   "execution_count": 102,
   "metadata": {},
   "outputs": [
    {
     "data": {
      "text/plain": [
       "True"
      ]
     },
     "execution_count": 102,
     "metadata": {},
     "output_type": "execute_result"
    }
   ],
   "source": [
    "vectors_config = qdrant_client.http.models.VectorParams(\n",
    "    size=1536,\n",
    "    distance=qdrant_client.http.models.Distance.COSINE,\n",
    ")\n",
    "\n",
    "client.recreate_collection(\n",
    "    collection_name=COLLECTION_NAME,\n",
    "    vectors_config=vectors_config,\n",
    ")"
   ]
  },
  {
   "cell_type": "code",
   "execution_count": 101,
   "metadata": {},
   "outputs": [
    {
     "data": {
      "text/plain": [
       "True"
      ]
     },
     "execution_count": 101,
     "metadata": {},
     "output_type": "execute_result"
    }
   ],
   "source": [
    "client.delete_collection(collection_name=COLLECTION_NAME)"
   ]
  },
  {
   "cell_type": "code",
   "execution_count": null,
   "metadata": {},
   "outputs": [],
   "source": [
    "    df = pd.DataFrame(\n",
    "        {\n",
    "            \"product\": [\"Biotin & Collagen Volumizing Hair Shampoo\", \"Argan-Liquid Gold Hair Spa\"],\n",
    "            \"brand\": [\"StBotanica\", \"Aroma Treasures\"],\n",
    "            \"sale_price\": [1098, 199.5],\n",
    "            \"rating\": [3.5, 4.4],\n",
    "            \"description\": [\n",
    "                \"An exclusive blend with Vitamin B7 Biotin, Hydrolyzed collagen, Oat Extract along with premium & organic cold-pressed ingredients helps to infuse nutrients into every strand and creates the appearance of thicker, fuller healthier looking hair. This powerful formula helps volumize even the skinniest strands into fuller and more abundant looking locks. It is safe for color-treated hair and safe for all hair types. St Botanica Biotin & Collagen Hair Conditioner has been specially formulated to repair dry & damaged hair for full, thick, voluminous, shiny & healthy looking hair! The amazing hair conditioner ingredients include Biotin, Hydrolyzed Collagen, Pro-Vitamin B5, Vitamin E, & Hydrolyzed Silk Proteins for glistening looking hair. Biotin and Collagen, infused with most efficacious natural extracts not only promotes healthy hair growth but also prevents hair dryness, increases the elasticity of the hair cortex, thereby strengthening hair, minimizing hair breakage and helping hair grow longer, healthier and thicker. PLUMP IT UP: the nutrient-rich, plump-it-up power of this haircare infused with ProVitamin B7 biotin and collagen helps give each strand of hair a beautiful boost, this dynamic duo will leave your hair feeling thicker, fuller, and looking oh, so healthy.\",\n",
    "                \"Our beautifully crafted Hair Spa Collection promises to be the perfect solution for nourishing and rejuvenating your tresses. Made with Argan Oil it revives moisture in the dull dry hair, reduces frizz, smooths unmanageable locks of curly hair, deeply nurtures hair shafts & follicles to prevent hair fall, repair split ends and strengthens the roots!Revitalising Hair Oil - The luxurious fusion of Moroccan Argan Oil, Sesame Oil, Olive Oil, Lavender and Geranium provides intense nutrition to revitalize dry and damaged hair.Follikare Wash - Precious blend of Moroccan Argan Oil, Hibiscus, and Ylang Ylang nudges away sebum to strengthen the hair follicles and improve hair growth.Follikare Deep Conditioning Mask - Perfect balance of Moroccan Argan Oil, Patchouli and Shea Butter restores hairs natural luster and provide deep nourishment to brittle, weak and frizzy locks.Restorative Nourishing Tonic - Exotic elixir of Moroccan Argan Oil, Chamomile, Watercress and Sage Extracts strengthens the root to prevent hair fall, enhance the volume and silken the texture of hair.Satin Feel Leave-On - Potent serum of Moroccan Argan Oil and Vitamin E repairs damaged hair strands, while moisturises and smoothens unmanageable dry frizzy hair.Argan - Liquid Gold - Aroma Treasures brings to you an exclusive Hair Spa Collection enriched with Argan Oil extracted from the kernels of Moroccos Argan tree.\"\n",
    "            ]\n",
    "        }\n",
    "    )\n",
    "    st.dataframe(\n",
    "        df,\n",
    "        column_config={\n",
    "            \"product\": \"Product Name\",\n",
    "            \"brand\": \"Brand\",\n",
    "            \"sale_price\": st.column_config.NumberColumn(\n",
    "                \"Sale Price (in INR)\",\n",
    "                help=\"The price of the product in USD\",\n",
    "                min_value=0,\n",
    "                max_value=1000,\n",
    "                format=\"₹%f\",\n",
    "            ),\n",
    "            \"rating\": st.column_config.NumberColumn(\n",
    "                \"Rating\",\n",
    "                help=\"Rating of the product\",\n",
    "                format=\"%f ⭐\",\n",
    "            ),\n",
    "            \"description\": \"Description\",\n",
    "        },\n",
    "        hide_index=True,\n",
    "    )"
   ]
  },
  {
   "cell_type": "code",
   "execution_count": 24,
   "metadata": {},
   "outputs": [
    {
     "name": "stderr",
     "output_type": "stream",
     "text": [
      "  1%|          | 2/276 [00:26<1:00:38, 13.28s/it]"
     ]
    },
    {
     "name": "stdout",
     "output_type": "stream",
     "text": [
      "100 The read operation timed out\n"
     ]
    },
    {
     "name": "stderr",
     "output_type": "stream",
     "text": [
      "  1%|▏         | 4/276 [00:45<47:42, 10.52s/it]  "
     ]
    },
    {
     "name": "stdout",
     "output_type": "stream",
     "text": [
      "300 The write operation timed out\n"
     ]
    },
    {
     "name": "stderr",
     "output_type": "stream",
     "text": [
      "  2%|▏         | 6/276 [01:11<53:59, 12.00s/it]\n"
     ]
    },
    {
     "ename": "KeyboardInterrupt",
     "evalue": "",
     "output_type": "error",
     "traceback": [
      "\u001b[1;31m---------------------------------------------------------------------------\u001b[0m",
      "\u001b[1;31mKeyboardInterrupt\u001b[0m                         Traceback (most recent call last)",
      "\u001b[1;32mc:\\Users\\ACER\\Documents\\Github\\Document-Retrieval\\test.ipynb Cell 15\u001b[0m line \u001b[0;36m1\n\u001b[0;32m     <a href='vscode-notebook-cell:/c%3A/Users/ACER/Documents/Github/Document-Retrieval/test.ipynb#X21sZmlsZQ%3D%3D?line=9'>10</a>\u001b[0m             \u001b[39mprint\u001b[39m(i, e)\n\u001b[0;32m     <a href='vscode-notebook-cell:/c%3A/Users/ACER/Documents/Github/Document-Retrieval/test.ipynb#X21sZmlsZQ%3D%3D?line=10'>11</a>\u001b[0m             \u001b[39mcontinue\u001b[39;00m\n\u001b[1;32m---> <a href='vscode-notebook-cell:/c%3A/Users/ACER/Documents/Github/Document-Retrieval/test.ipynb#X21sZmlsZQ%3D%3D?line=12'>13</a>\u001b[0m add_texts(docs, batch_size\u001b[39m=\u001b[39;49m\u001b[39m100\u001b[39;49m)\n",
      "\u001b[1;32mc:\\Users\\ACER\\Documents\\Github\\Document-Retrieval\\test.ipynb Cell 15\u001b[0m line \u001b[0;36m6\n\u001b[0;32m      <a href='vscode-notebook-cell:/c%3A/Users/ACER/Documents/Github/Document-Retrieval/test.ipynb#X21sZmlsZQ%3D%3D?line=3'>4</a>\u001b[0m \u001b[39mfor\u001b[39;00m i \u001b[39min\u001b[39;00m tqdm(\u001b[39mrange\u001b[39m(\u001b[39m0\u001b[39m, \u001b[39mlen\u001b[39m(texts), batch_size)):\n\u001b[0;32m      <a href='vscode-notebook-cell:/c%3A/Users/ACER/Documents/Github/Document-Retrieval/test.ipynb#X21sZmlsZQ%3D%3D?line=4'>5</a>\u001b[0m     \u001b[39mtry\u001b[39;00m:\n\u001b[1;32m----> <a href='vscode-notebook-cell:/c%3A/Users/ACER/Documents/Github/Document-Retrieval/test.ipynb#X21sZmlsZQ%3D%3D?line=5'>6</a>\u001b[0m         vector_store\u001b[39m.\u001b[39;49madd_texts(\n\u001b[0;32m      <a href='vscode-notebook-cell:/c%3A/Users/ACER/Documents/Github/Document-Retrieval/test.ipynb#X21sZmlsZQ%3D%3D?line=6'>7</a>\u001b[0m             texts\u001b[39m=\u001b[39;49mtexts[i:i\u001b[39m+\u001b[39;49mbatch_size],\n\u001b[0;32m      <a href='vscode-notebook-cell:/c%3A/Users/ACER/Documents/Github/Document-Retrieval/test.ipynb#X21sZmlsZQ%3D%3D?line=7'>8</a>\u001b[0m         )\n\u001b[0;32m      <a href='vscode-notebook-cell:/c%3A/Users/ACER/Documents/Github/Document-Retrieval/test.ipynb#X21sZmlsZQ%3D%3D?line=8'>9</a>\u001b[0m     \u001b[39mexcept\u001b[39;00m \u001b[39mException\u001b[39;00m \u001b[39mas\u001b[39;00m e:\n\u001b[0;32m     <a href='vscode-notebook-cell:/c%3A/Users/ACER/Documents/Github/Document-Retrieval/test.ipynb#X21sZmlsZQ%3D%3D?line=9'>10</a>\u001b[0m         \u001b[39mprint\u001b[39m(i, e)\n",
      "File \u001b[1;32mc:\\Users\\ACER\\anaconda3\\envs\\chaabi\\lib\\site-packages\\langchain\\vectorstores\\qdrant.py:178\u001b[0m, in \u001b[0;36mQdrant.add_texts\u001b[1;34m(self, texts, metadatas, ids, batch_size, **kwargs)\u001b[0m\n\u001b[0;32m    162\u001b[0m \u001b[39m\u001b[39m\u001b[39m\"\"\"Run more texts through the embeddings and add to the vectorstore.\u001b[39;00m\n\u001b[0;32m    163\u001b[0m \n\u001b[0;32m    164\u001b[0m \u001b[39mArgs:\u001b[39;00m\n\u001b[1;32m   (...)\u001b[0m\n\u001b[0;32m    175\u001b[0m \u001b[39m    List of ids from adding the texts into the vectorstore.\u001b[39;00m\n\u001b[0;32m    176\u001b[0m \u001b[39m\"\"\"\u001b[39;00m\n\u001b[0;32m    177\u001b[0m added_ids \u001b[39m=\u001b[39m []\n\u001b[1;32m--> 178\u001b[0m \u001b[39mfor\u001b[39;00m batch_ids, points \u001b[39min\u001b[39;00m \u001b[39mself\u001b[39m\u001b[39m.\u001b[39m_generate_rest_batches(\n\u001b[0;32m    179\u001b[0m     texts, metadatas, ids, batch_size\n\u001b[0;32m    180\u001b[0m ):\n\u001b[0;32m    181\u001b[0m     \u001b[39mself\u001b[39m\u001b[39m.\u001b[39mclient\u001b[39m.\u001b[39mupsert(\n\u001b[0;32m    182\u001b[0m         collection_name\u001b[39m=\u001b[39m\u001b[39mself\u001b[39m\u001b[39m.\u001b[39mcollection_name, points\u001b[39m=\u001b[39mpoints, \u001b[39m*\u001b[39m\u001b[39m*\u001b[39mkwargs\n\u001b[0;32m    183\u001b[0m     )\n\u001b[0;32m    184\u001b[0m     added_ids\u001b[39m.\u001b[39mextend(batch_ids)\n",
      "File \u001b[1;32mc:\\Users\\ACER\\anaconda3\\envs\\chaabi\\lib\\site-packages\\langchain\\vectorstores\\qdrant.py:2073\u001b[0m, in \u001b[0;36mQdrant._generate_rest_batches\u001b[1;34m(self, texts, metadatas, ids, batch_size)\u001b[0m\n\u001b[0;32m   2070\u001b[0m batch_ids \u001b[39m=\u001b[39m \u001b[39mlist\u001b[39m(islice(ids_iterator, batch_size))\n\u001b[0;32m   2072\u001b[0m \u001b[39m# Generate the embeddings for all the texts in a batch\u001b[39;00m\n\u001b[1;32m-> 2073\u001b[0m batch_embeddings \u001b[39m=\u001b[39m \u001b[39mself\u001b[39;49m\u001b[39m.\u001b[39;49m_embed_texts(batch_texts)\n\u001b[0;32m   2075\u001b[0m points \u001b[39m=\u001b[39m [\n\u001b[0;32m   2076\u001b[0m     rest\u001b[39m.\u001b[39mPointStruct(\n\u001b[0;32m   2077\u001b[0m         \u001b[39mid\u001b[39m\u001b[39m=\u001b[39mpoint_id,\n\u001b[1;32m   (...)\u001b[0m\n\u001b[0;32m   2092\u001b[0m     )\n\u001b[0;32m   2093\u001b[0m ]\n\u001b[0;32m   2095\u001b[0m \u001b[39myield\u001b[39;00m batch_ids, points\n",
      "File \u001b[1;32mc:\\Users\\ACER\\anaconda3\\envs\\chaabi\\lib\\site-packages\\langchain\\vectorstores\\qdrant.py:2013\u001b[0m, in \u001b[0;36mQdrant._embed_texts\u001b[1;34m(self, texts)\u001b[0m\n\u001b[0;32m   2002\u001b[0m \u001b[39m\u001b[39m\u001b[39m\"\"\"Embed search texts.\u001b[39;00m\n\u001b[0;32m   2003\u001b[0m \n\u001b[0;32m   2004\u001b[0m \u001b[39mUsed to provide backward compatibility with `embedding_function` argument.\u001b[39;00m\n\u001b[1;32m   (...)\u001b[0m\n\u001b[0;32m   2010\u001b[0m \u001b[39m    List of floats representing the texts embedding.\u001b[39;00m\n\u001b[0;32m   2011\u001b[0m \u001b[39m\"\"\"\u001b[39;00m\n\u001b[0;32m   2012\u001b[0m \u001b[39mif\u001b[39;00m \u001b[39mself\u001b[39m\u001b[39m.\u001b[39membeddings \u001b[39mis\u001b[39;00m \u001b[39mnot\u001b[39;00m \u001b[39mNone\u001b[39;00m:\n\u001b[1;32m-> 2013\u001b[0m     embeddings \u001b[39m=\u001b[39m \u001b[39mself\u001b[39;49m\u001b[39m.\u001b[39;49membeddings\u001b[39m.\u001b[39;49membed_documents(\u001b[39mlist\u001b[39;49m(texts))\n\u001b[0;32m   2014\u001b[0m     \u001b[39mif\u001b[39;00m \u001b[39mhasattr\u001b[39m(embeddings, \u001b[39m\"\u001b[39m\u001b[39mtolist\u001b[39m\u001b[39m\"\u001b[39m):\n\u001b[0;32m   2015\u001b[0m         embeddings \u001b[39m=\u001b[39m embeddings\u001b[39m.\u001b[39mtolist()\n",
      "File \u001b[1;32mc:\\Users\\ACER\\anaconda3\\envs\\chaabi\\lib\\site-packages\\langchain\\embeddings\\openai.py:555\u001b[0m, in \u001b[0;36mOpenAIEmbeddings.embed_documents\u001b[1;34m(self, texts, chunk_size)\u001b[0m\n\u001b[0;32m    552\u001b[0m \u001b[39m# NOTE: to keep things simple, we assume the list may contain texts longer\u001b[39;00m\n\u001b[0;32m    553\u001b[0m \u001b[39m#       than the maximum context and use length-safe embedding function.\u001b[39;00m\n\u001b[0;32m    554\u001b[0m engine \u001b[39m=\u001b[39m cast(\u001b[39mstr\u001b[39m, \u001b[39mself\u001b[39m\u001b[39m.\u001b[39mdeployment)\n\u001b[1;32m--> 555\u001b[0m \u001b[39mreturn\u001b[39;00m \u001b[39mself\u001b[39;49m\u001b[39m.\u001b[39;49m_get_len_safe_embeddings(texts, engine\u001b[39m=\u001b[39;49mengine)\n",
      "File \u001b[1;32mc:\\Users\\ACER\\anaconda3\\envs\\chaabi\\lib\\site-packages\\langchain\\embeddings\\openai.py:431\u001b[0m, in \u001b[0;36mOpenAIEmbeddings._get_len_safe_embeddings\u001b[1;34m(self, texts, engine, chunk_size)\u001b[0m\n\u001b[0;32m    428\u001b[0m     _iter \u001b[39m=\u001b[39m \u001b[39mrange\u001b[39m(\u001b[39m0\u001b[39m, \u001b[39mlen\u001b[39m(tokens), _chunk_size)\n\u001b[0;32m    430\u001b[0m \u001b[39mfor\u001b[39;00m i \u001b[39min\u001b[39;00m _iter:\n\u001b[1;32m--> 431\u001b[0m     response \u001b[39m=\u001b[39m embed_with_retry(\n\u001b[0;32m    432\u001b[0m         \u001b[39mself\u001b[39m,\n\u001b[0;32m    433\u001b[0m         \u001b[39minput\u001b[39m\u001b[39m=\u001b[39mtokens[i : i \u001b[39m+\u001b[39m _chunk_size],\n\u001b[0;32m    434\u001b[0m         \u001b[39m*\u001b[39m\u001b[39m*\u001b[39m\u001b[39mself\u001b[39m\u001b[39m.\u001b[39m_invocation_params,\n\u001b[0;32m    435\u001b[0m     )\n\u001b[0;32m    436\u001b[0m     \u001b[39mif\u001b[39;00m \u001b[39mnot\u001b[39;00m \u001b[39misinstance\u001b[39m(response, \u001b[39mdict\u001b[39m):\n\u001b[0;32m    437\u001b[0m         response \u001b[39m=\u001b[39m response\u001b[39m.\u001b[39mdict()\n",
      "File \u001b[1;32mc:\\Users\\ACER\\anaconda3\\envs\\chaabi\\lib\\site-packages\\langchain\\embeddings\\openai.py:106\u001b[0m, in \u001b[0;36membed_with_retry\u001b[1;34m(embeddings, **kwargs)\u001b[0m\n\u001b[0;32m    104\u001b[0m \u001b[39m\u001b[39m\u001b[39m\"\"\"Use tenacity to retry the embedding call.\"\"\"\u001b[39;00m\n\u001b[0;32m    105\u001b[0m \u001b[39mif\u001b[39;00m _is_openai_v1():\n\u001b[1;32m--> 106\u001b[0m     \u001b[39mreturn\u001b[39;00m embeddings\u001b[39m.\u001b[39mclient\u001b[39m.\u001b[39mcreate(\u001b[39m*\u001b[39m\u001b[39m*\u001b[39mkwargs)\n\u001b[0;32m    107\u001b[0m retry_decorator \u001b[39m=\u001b[39m _create_retry_decorator(embeddings)\n\u001b[0;32m    109\u001b[0m \u001b[39m@retry_decorator\u001b[39m\n\u001b[0;32m    110\u001b[0m \u001b[39mdef\u001b[39;00m \u001b[39m_embed_with_retry\u001b[39m(\u001b[39m*\u001b[39m\u001b[39m*\u001b[39mkwargs: Any) \u001b[39m-\u001b[39m\u001b[39m>\u001b[39m Any:\n",
      "File \u001b[1;32mc:\\Users\\ACER\\anaconda3\\envs\\chaabi\\lib\\site-packages\\openai\\resources\\embeddings.py:105\u001b[0m, in \u001b[0;36mEmbeddings.create\u001b[1;34m(self, input, model, encoding_format, user, extra_headers, extra_query, extra_body, timeout)\u001b[0m\n\u001b[0;32m     99\u001b[0m         embedding\u001b[39m.\u001b[39membedding \u001b[39m=\u001b[39m np\u001b[39m.\u001b[39mfrombuffer(  \u001b[39m# type: ignore[no-untyped-call]\u001b[39;00m\n\u001b[0;32m    100\u001b[0m             base64\u001b[39m.\u001b[39mb64decode(data), dtype\u001b[39m=\u001b[39m\u001b[39m\"\u001b[39m\u001b[39mfloat32\u001b[39m\u001b[39m\"\u001b[39m\n\u001b[0;32m    101\u001b[0m         )\u001b[39m.\u001b[39mtolist()\n\u001b[0;32m    103\u001b[0m     \u001b[39mreturn\u001b[39;00m obj\n\u001b[1;32m--> 105\u001b[0m \u001b[39mreturn\u001b[39;00m \u001b[39mself\u001b[39;49m\u001b[39m.\u001b[39;49m_post(\n\u001b[0;32m    106\u001b[0m     \u001b[39m\"\u001b[39;49m\u001b[39m/embeddings\u001b[39;49m\u001b[39m\"\u001b[39;49m,\n\u001b[0;32m    107\u001b[0m     body\u001b[39m=\u001b[39;49mmaybe_transform(params, embedding_create_params\u001b[39m.\u001b[39;49mEmbeddingCreateParams),\n\u001b[0;32m    108\u001b[0m     options\u001b[39m=\u001b[39;49mmake_request_options(\n\u001b[0;32m    109\u001b[0m         extra_headers\u001b[39m=\u001b[39;49mextra_headers,\n\u001b[0;32m    110\u001b[0m         extra_query\u001b[39m=\u001b[39;49mextra_query,\n\u001b[0;32m    111\u001b[0m         extra_body\u001b[39m=\u001b[39;49mextra_body,\n\u001b[0;32m    112\u001b[0m         timeout\u001b[39m=\u001b[39;49mtimeout,\n\u001b[0;32m    113\u001b[0m         post_parser\u001b[39m=\u001b[39;49mparser,\n\u001b[0;32m    114\u001b[0m     ),\n\u001b[0;32m    115\u001b[0m     cast_to\u001b[39m=\u001b[39;49mCreateEmbeddingResponse,\n\u001b[0;32m    116\u001b[0m )\n",
      "File \u001b[1;32mc:\\Users\\ACER\\anaconda3\\envs\\chaabi\\lib\\site-packages\\openai\\_base_client.py:1055\u001b[0m, in \u001b[0;36mSyncAPIClient.post\u001b[1;34m(self, path, cast_to, body, options, files, stream, stream_cls)\u001b[0m\n\u001b[0;32m   1041\u001b[0m \u001b[39mdef\u001b[39;00m \u001b[39mpost\u001b[39m(\n\u001b[0;32m   1042\u001b[0m     \u001b[39mself\u001b[39m,\n\u001b[0;32m   1043\u001b[0m     path: \u001b[39mstr\u001b[39m,\n\u001b[1;32m   (...)\u001b[0m\n\u001b[0;32m   1050\u001b[0m     stream_cls: \u001b[39mtype\u001b[39m[_StreamT] \u001b[39m|\u001b[39m \u001b[39mNone\u001b[39;00m \u001b[39m=\u001b[39m \u001b[39mNone\u001b[39;00m,\n\u001b[0;32m   1051\u001b[0m ) \u001b[39m-\u001b[39m\u001b[39m>\u001b[39m ResponseT \u001b[39m|\u001b[39m _StreamT:\n\u001b[0;32m   1052\u001b[0m     opts \u001b[39m=\u001b[39m FinalRequestOptions\u001b[39m.\u001b[39mconstruct(\n\u001b[0;32m   1053\u001b[0m         method\u001b[39m=\u001b[39m\u001b[39m\"\u001b[39m\u001b[39mpost\u001b[39m\u001b[39m\"\u001b[39m, url\u001b[39m=\u001b[39mpath, json_data\u001b[39m=\u001b[39mbody, files\u001b[39m=\u001b[39mto_httpx_files(files), \u001b[39m*\u001b[39m\u001b[39m*\u001b[39moptions\n\u001b[0;32m   1054\u001b[0m     )\n\u001b[1;32m-> 1055\u001b[0m     \u001b[39mreturn\u001b[39;00m cast(ResponseT, \u001b[39mself\u001b[39;49m\u001b[39m.\u001b[39;49mrequest(cast_to, opts, stream\u001b[39m=\u001b[39;49mstream, stream_cls\u001b[39m=\u001b[39;49mstream_cls))\n",
      "File \u001b[1;32mc:\\Users\\ACER\\anaconda3\\envs\\chaabi\\lib\\site-packages\\openai\\_base_client.py:834\u001b[0m, in \u001b[0;36mSyncAPIClient.request\u001b[1;34m(self, cast_to, options, remaining_retries, stream, stream_cls)\u001b[0m\n\u001b[0;32m    825\u001b[0m \u001b[39mdef\u001b[39;00m \u001b[39mrequest\u001b[39m(\n\u001b[0;32m    826\u001b[0m     \u001b[39mself\u001b[39m,\n\u001b[0;32m    827\u001b[0m     cast_to: Type[ResponseT],\n\u001b[1;32m   (...)\u001b[0m\n\u001b[0;32m    832\u001b[0m     stream_cls: \u001b[39mtype\u001b[39m[_StreamT] \u001b[39m|\u001b[39m \u001b[39mNone\u001b[39;00m \u001b[39m=\u001b[39m \u001b[39mNone\u001b[39;00m,\n\u001b[0;32m    833\u001b[0m ) \u001b[39m-\u001b[39m\u001b[39m>\u001b[39m ResponseT \u001b[39m|\u001b[39m _StreamT:\n\u001b[1;32m--> 834\u001b[0m     \u001b[39mreturn\u001b[39;00m \u001b[39mself\u001b[39;49m\u001b[39m.\u001b[39;49m_request(\n\u001b[0;32m    835\u001b[0m         cast_to\u001b[39m=\u001b[39;49mcast_to,\n\u001b[0;32m    836\u001b[0m         options\u001b[39m=\u001b[39;49moptions,\n\u001b[0;32m    837\u001b[0m         stream\u001b[39m=\u001b[39;49mstream,\n\u001b[0;32m    838\u001b[0m         stream_cls\u001b[39m=\u001b[39;49mstream_cls,\n\u001b[0;32m    839\u001b[0m         remaining_retries\u001b[39m=\u001b[39;49mremaining_retries,\n\u001b[0;32m    840\u001b[0m     )\n",
      "File \u001b[1;32mc:\\Users\\ACER\\anaconda3\\envs\\chaabi\\lib\\site-packages\\openai\\_base_client.py:858\u001b[0m, in \u001b[0;36mSyncAPIClient._request\u001b[1;34m(self, cast_to, options, remaining_retries, stream, stream_cls)\u001b[0m\n\u001b[0;32m    855\u001b[0m \u001b[39mself\u001b[39m\u001b[39m.\u001b[39m_prepare_request(request)\n\u001b[0;32m    857\u001b[0m \u001b[39mtry\u001b[39;00m:\n\u001b[1;32m--> 858\u001b[0m     response \u001b[39m=\u001b[39m \u001b[39mself\u001b[39;49m\u001b[39m.\u001b[39;49m_client\u001b[39m.\u001b[39;49msend(request, auth\u001b[39m=\u001b[39;49m\u001b[39mself\u001b[39;49m\u001b[39m.\u001b[39;49mcustom_auth, stream\u001b[39m=\u001b[39;49mstream)\n\u001b[0;32m    859\u001b[0m     log\u001b[39m.\u001b[39mdebug(\n\u001b[0;32m    860\u001b[0m         \u001b[39m'\u001b[39m\u001b[39mHTTP Request: \u001b[39m\u001b[39m%s\u001b[39;00m\u001b[39m \u001b[39m\u001b[39m%s\u001b[39;00m\u001b[39m \u001b[39m\u001b[39m\"\u001b[39m\u001b[39m%i\u001b[39;00m\u001b[39m \u001b[39m\u001b[39m%s\u001b[39;00m\u001b[39m\"\u001b[39m\u001b[39m'\u001b[39m, request\u001b[39m.\u001b[39mmethod, request\u001b[39m.\u001b[39murl, response\u001b[39m.\u001b[39mstatus_code, response\u001b[39m.\u001b[39mreason_phrase\n\u001b[0;32m    861\u001b[0m     )\n\u001b[0;32m    862\u001b[0m     response\u001b[39m.\u001b[39mraise_for_status()\n",
      "File \u001b[1;32mc:\\Users\\ACER\\anaconda3\\envs\\chaabi\\lib\\site-packages\\httpx\\_client.py:915\u001b[0m, in \u001b[0;36mClient.send\u001b[1;34m(self, request, stream, auth, follow_redirects)\u001b[0m\n\u001b[0;32m    913\u001b[0m \u001b[39mexcept\u001b[39;00m \u001b[39mBaseException\u001b[39;00m \u001b[39mas\u001b[39;00m exc:\n\u001b[0;32m    914\u001b[0m     response\u001b[39m.\u001b[39mclose()\n\u001b[1;32m--> 915\u001b[0m     \u001b[39mraise\u001b[39;00m exc\n",
      "File \u001b[1;32mc:\\Users\\ACER\\anaconda3\\envs\\chaabi\\lib\\site-packages\\httpx\\_client.py:909\u001b[0m, in \u001b[0;36mClient.send\u001b[1;34m(self, request, stream, auth, follow_redirects)\u001b[0m\n\u001b[0;32m    907\u001b[0m \u001b[39mtry\u001b[39;00m:\n\u001b[0;32m    908\u001b[0m     \u001b[39mif\u001b[39;00m \u001b[39mnot\u001b[39;00m stream:\n\u001b[1;32m--> 909\u001b[0m         response\u001b[39m.\u001b[39;49mread()\n\u001b[0;32m    911\u001b[0m     \u001b[39mreturn\u001b[39;00m response\n\u001b[0;32m    913\u001b[0m \u001b[39mexcept\u001b[39;00m \u001b[39mBaseException\u001b[39;00m \u001b[39mas\u001b[39;00m exc:\n",
      "File \u001b[1;32mc:\\Users\\ACER\\anaconda3\\envs\\chaabi\\lib\\site-packages\\httpx\\_models.py:810\u001b[0m, in \u001b[0;36mResponse.read\u001b[1;34m(self)\u001b[0m\n\u001b[0;32m    806\u001b[0m \u001b[39m\u001b[39m\u001b[39m\"\"\"\u001b[39;00m\n\u001b[0;32m    807\u001b[0m \u001b[39mRead and return the response content.\u001b[39;00m\n\u001b[0;32m    808\u001b[0m \u001b[39m\"\"\"\u001b[39;00m\n\u001b[0;32m    809\u001b[0m \u001b[39mif\u001b[39;00m \u001b[39mnot\u001b[39;00m \u001b[39mhasattr\u001b[39m(\u001b[39mself\u001b[39m, \u001b[39m\"\u001b[39m\u001b[39m_content\u001b[39m\u001b[39m\"\u001b[39m):\n\u001b[1;32m--> 810\u001b[0m     \u001b[39mself\u001b[39m\u001b[39m.\u001b[39m_content \u001b[39m=\u001b[39m \u001b[39mb\u001b[39;49m\u001b[39m\"\u001b[39;49m\u001b[39m\"\u001b[39;49m\u001b[39m.\u001b[39;49mjoin(\u001b[39mself\u001b[39;49m\u001b[39m.\u001b[39;49miter_bytes())\n\u001b[0;32m    811\u001b[0m \u001b[39mreturn\u001b[39;00m \u001b[39mself\u001b[39m\u001b[39m.\u001b[39m_content\n",
      "File \u001b[1;32mc:\\Users\\ACER\\anaconda3\\envs\\chaabi\\lib\\site-packages\\httpx\\_models.py:828\u001b[0m, in \u001b[0;36mResponse.iter_bytes\u001b[1;34m(self, chunk_size)\u001b[0m\n\u001b[0;32m    826\u001b[0m chunker \u001b[39m=\u001b[39m ByteChunker(chunk_size\u001b[39m=\u001b[39mchunk_size)\n\u001b[0;32m    827\u001b[0m \u001b[39mwith\u001b[39;00m request_context(request\u001b[39m=\u001b[39m\u001b[39mself\u001b[39m\u001b[39m.\u001b[39m_request):\n\u001b[1;32m--> 828\u001b[0m     \u001b[39mfor\u001b[39;00m raw_bytes \u001b[39min\u001b[39;00m \u001b[39mself\u001b[39m\u001b[39m.\u001b[39miter_raw():\n\u001b[0;32m    829\u001b[0m         decoded \u001b[39m=\u001b[39m decoder\u001b[39m.\u001b[39mdecode(raw_bytes)\n\u001b[0;32m    830\u001b[0m         \u001b[39mfor\u001b[39;00m chunk \u001b[39min\u001b[39;00m chunker\u001b[39m.\u001b[39mdecode(decoded):\n",
      "File \u001b[1;32mc:\\Users\\ACER\\anaconda3\\envs\\chaabi\\lib\\site-packages\\httpx\\_models.py:886\u001b[0m, in \u001b[0;36mResponse.iter_raw\u001b[1;34m(self, chunk_size)\u001b[0m\n\u001b[0;32m    883\u001b[0m chunker \u001b[39m=\u001b[39m ByteChunker(chunk_size\u001b[39m=\u001b[39mchunk_size)\n\u001b[0;32m    885\u001b[0m \u001b[39mwith\u001b[39;00m request_context(request\u001b[39m=\u001b[39m\u001b[39mself\u001b[39m\u001b[39m.\u001b[39m_request):\n\u001b[1;32m--> 886\u001b[0m     \u001b[39mfor\u001b[39;00m raw_stream_bytes \u001b[39min\u001b[39;00m \u001b[39mself\u001b[39m\u001b[39m.\u001b[39mstream:\n\u001b[0;32m    887\u001b[0m         \u001b[39mself\u001b[39m\u001b[39m.\u001b[39m_num_bytes_downloaded \u001b[39m+\u001b[39m\u001b[39m=\u001b[39m \u001b[39mlen\u001b[39m(raw_stream_bytes)\n\u001b[0;32m    888\u001b[0m         \u001b[39mfor\u001b[39;00m chunk \u001b[39min\u001b[39;00m chunker\u001b[39m.\u001b[39mdecode(raw_stream_bytes):\n",
      "File \u001b[1;32mc:\\Users\\ACER\\anaconda3\\envs\\chaabi\\lib\\site-packages\\httpx\\_client.py:123\u001b[0m, in \u001b[0;36mBoundSyncStream.__iter__\u001b[1;34m(self)\u001b[0m\n\u001b[0;32m    122\u001b[0m \u001b[39mdef\u001b[39;00m \u001b[39m__iter__\u001b[39m(\u001b[39mself\u001b[39m) \u001b[39m-\u001b[39m\u001b[39m>\u001b[39m typing\u001b[39m.\u001b[39mIterator[\u001b[39mbytes\u001b[39m]:\n\u001b[1;32m--> 123\u001b[0m     \u001b[39mfor\u001b[39;00m chunk \u001b[39min\u001b[39;00m \u001b[39mself\u001b[39m\u001b[39m.\u001b[39m_stream:\n\u001b[0;32m    124\u001b[0m         \u001b[39myield\u001b[39;00m chunk\n",
      "File \u001b[1;32mc:\\Users\\ACER\\anaconda3\\envs\\chaabi\\lib\\site-packages\\httpx\\_transports\\default.py:110\u001b[0m, in \u001b[0;36mResponseStream.__iter__\u001b[1;34m(self)\u001b[0m\n\u001b[0;32m    108\u001b[0m \u001b[39mdef\u001b[39;00m \u001b[39m__iter__\u001b[39m(\u001b[39mself\u001b[39m) \u001b[39m-\u001b[39m\u001b[39m>\u001b[39m typing\u001b[39m.\u001b[39mIterator[\u001b[39mbytes\u001b[39m]:\n\u001b[0;32m    109\u001b[0m     \u001b[39mwith\u001b[39;00m map_httpcore_exceptions():\n\u001b[1;32m--> 110\u001b[0m         \u001b[39mfor\u001b[39;00m part \u001b[39min\u001b[39;00m \u001b[39mself\u001b[39m\u001b[39m.\u001b[39m_httpcore_stream:\n\u001b[0;32m    111\u001b[0m             \u001b[39myield\u001b[39;00m part\n",
      "File \u001b[1;32mc:\\Users\\ACER\\anaconda3\\envs\\chaabi\\lib\\site-packages\\httpcore\\_sync\\connection_pool.py:361\u001b[0m, in \u001b[0;36mConnectionPoolByteStream.__iter__\u001b[1;34m(self)\u001b[0m\n\u001b[0;32m    360\u001b[0m \u001b[39mdef\u001b[39;00m \u001b[39m__iter__\u001b[39m(\u001b[39mself\u001b[39m) \u001b[39m-\u001b[39m\u001b[39m>\u001b[39m Iterator[\u001b[39mbytes\u001b[39m]:\n\u001b[1;32m--> 361\u001b[0m     \u001b[39mfor\u001b[39;00m part \u001b[39min\u001b[39;00m \u001b[39mself\u001b[39m\u001b[39m.\u001b[39m_stream:\n\u001b[0;32m    362\u001b[0m         \u001b[39myield\u001b[39;00m part\n",
      "File \u001b[1;32mc:\\Users\\ACER\\anaconda3\\envs\\chaabi\\lib\\site-packages\\httpcore\\_sync\\http11.py:337\u001b[0m, in \u001b[0;36mHTTP11ConnectionByteStream.__iter__\u001b[1;34m(self)\u001b[0m\n\u001b[0;32m    335\u001b[0m \u001b[39mwith\u001b[39;00m ShieldCancellation():\n\u001b[0;32m    336\u001b[0m     \u001b[39mself\u001b[39m\u001b[39m.\u001b[39mclose()\n\u001b[1;32m--> 337\u001b[0m \u001b[39mraise\u001b[39;00m exc\n",
      "File \u001b[1;32mc:\\Users\\ACER\\anaconda3\\envs\\chaabi\\lib\\site-packages\\httpcore\\_sync\\http11.py:329\u001b[0m, in \u001b[0;36mHTTP11ConnectionByteStream.__iter__\u001b[1;34m(self)\u001b[0m\n\u001b[0;32m    327\u001b[0m \u001b[39mtry\u001b[39;00m:\n\u001b[0;32m    328\u001b[0m     \u001b[39mwith\u001b[39;00m Trace(\u001b[39m\"\u001b[39m\u001b[39mreceive_response_body\u001b[39m\u001b[39m\"\u001b[39m, logger, \u001b[39mself\u001b[39m\u001b[39m.\u001b[39m_request, kwargs):\n\u001b[1;32m--> 329\u001b[0m         \u001b[39mfor\u001b[39;00m chunk \u001b[39min\u001b[39;00m \u001b[39mself\u001b[39m\u001b[39m.\u001b[39m_connection\u001b[39m.\u001b[39m_receive_response_body(\u001b[39m*\u001b[39m\u001b[39m*\u001b[39mkwargs):\n\u001b[0;32m    330\u001b[0m             \u001b[39myield\u001b[39;00m chunk\n\u001b[0;32m    331\u001b[0m \u001b[39mexcept\u001b[39;00m \u001b[39mBaseException\u001b[39;00m \u001b[39mas\u001b[39;00m exc:\n\u001b[0;32m    332\u001b[0m     \u001b[39m# If we get an exception while streaming the response,\u001b[39;00m\n\u001b[0;32m    333\u001b[0m     \u001b[39m# we want to close the response (and possibly the connection)\u001b[39;00m\n\u001b[0;32m    334\u001b[0m     \u001b[39m# before raising that exception.\u001b[39;00m\n",
      "File \u001b[1;32mc:\\Users\\ACER\\anaconda3\\envs\\chaabi\\lib\\site-packages\\httpcore\\_sync\\http11.py:198\u001b[0m, in \u001b[0;36mHTTP11Connection._receive_response_body\u001b[1;34m(self, request)\u001b[0m\n\u001b[0;32m    195\u001b[0m timeout \u001b[39m=\u001b[39m timeouts\u001b[39m.\u001b[39mget(\u001b[39m\"\u001b[39m\u001b[39mread\u001b[39m\u001b[39m\"\u001b[39m, \u001b[39mNone\u001b[39;00m)\n\u001b[0;32m    197\u001b[0m \u001b[39mwhile\u001b[39;00m \u001b[39mTrue\u001b[39;00m:\n\u001b[1;32m--> 198\u001b[0m     event \u001b[39m=\u001b[39m \u001b[39mself\u001b[39;49m\u001b[39m.\u001b[39;49m_receive_event(timeout\u001b[39m=\u001b[39;49mtimeout)\n\u001b[0;32m    199\u001b[0m     \u001b[39mif\u001b[39;00m \u001b[39misinstance\u001b[39m(event, h11\u001b[39m.\u001b[39mData):\n\u001b[0;32m    200\u001b[0m         \u001b[39myield\u001b[39;00m \u001b[39mbytes\u001b[39m(event\u001b[39m.\u001b[39mdata)\n",
      "File \u001b[1;32mc:\\Users\\ACER\\anaconda3\\envs\\chaabi\\lib\\site-packages\\httpcore\\_sync\\http11.py:212\u001b[0m, in \u001b[0;36mHTTP11Connection._receive_event\u001b[1;34m(self, timeout)\u001b[0m\n\u001b[0;32m    209\u001b[0m     event \u001b[39m=\u001b[39m \u001b[39mself\u001b[39m\u001b[39m.\u001b[39m_h11_state\u001b[39m.\u001b[39mnext_event()\n\u001b[0;32m    211\u001b[0m \u001b[39mif\u001b[39;00m event \u001b[39mis\u001b[39;00m h11\u001b[39m.\u001b[39mNEED_DATA:\n\u001b[1;32m--> 212\u001b[0m     data \u001b[39m=\u001b[39m \u001b[39mself\u001b[39;49m\u001b[39m.\u001b[39;49m_network_stream\u001b[39m.\u001b[39;49mread(\n\u001b[0;32m    213\u001b[0m         \u001b[39mself\u001b[39;49m\u001b[39m.\u001b[39;49mREAD_NUM_BYTES, timeout\u001b[39m=\u001b[39;49mtimeout\n\u001b[0;32m    214\u001b[0m     )\n\u001b[0;32m    216\u001b[0m     \u001b[39m# If we feed this case through h11 we'll raise an exception like:\u001b[39;00m\n\u001b[0;32m    217\u001b[0m     \u001b[39m#\u001b[39;00m\n\u001b[0;32m    218\u001b[0m     \u001b[39m#     httpcore.RemoteProtocolError: can't handle event type\u001b[39;00m\n\u001b[1;32m   (...)\u001b[0m\n\u001b[0;32m    222\u001b[0m     \u001b[39m# perspective. Instead we handle this case distinctly and treat\u001b[39;00m\n\u001b[0;32m    223\u001b[0m     \u001b[39m# it as a ConnectError.\u001b[39;00m\n\u001b[0;32m    224\u001b[0m     \u001b[39mif\u001b[39;00m data \u001b[39m==\u001b[39m \u001b[39mb\u001b[39m\u001b[39m\"\u001b[39m\u001b[39m\"\u001b[39m \u001b[39mand\u001b[39;00m \u001b[39mself\u001b[39m\u001b[39m.\u001b[39m_h11_state\u001b[39m.\u001b[39mtheir_state \u001b[39m==\u001b[39m h11\u001b[39m.\u001b[39mSEND_RESPONSE:\n",
      "File \u001b[1;32mc:\\Users\\ACER\\anaconda3\\envs\\chaabi\\lib\\site-packages\\httpcore\\_backends\\sync.py:126\u001b[0m, in \u001b[0;36mSyncStream.read\u001b[1;34m(self, max_bytes, timeout)\u001b[0m\n\u001b[0;32m    124\u001b[0m \u001b[39mwith\u001b[39;00m map_exceptions(exc_map):\n\u001b[0;32m    125\u001b[0m     \u001b[39mself\u001b[39m\u001b[39m.\u001b[39m_sock\u001b[39m.\u001b[39msettimeout(timeout)\n\u001b[1;32m--> 126\u001b[0m     \u001b[39mreturn\u001b[39;00m \u001b[39mself\u001b[39;49m\u001b[39m.\u001b[39;49m_sock\u001b[39m.\u001b[39;49mrecv(max_bytes)\n",
      "File \u001b[1;32mc:\\Users\\ACER\\anaconda3\\envs\\chaabi\\lib\\ssl.py:1292\u001b[0m, in \u001b[0;36mSSLSocket.recv\u001b[1;34m(self, buflen, flags)\u001b[0m\n\u001b[0;32m   1288\u001b[0m     \u001b[39mif\u001b[39;00m flags \u001b[39m!=\u001b[39m \u001b[39m0\u001b[39m:\n\u001b[0;32m   1289\u001b[0m         \u001b[39mraise\u001b[39;00m \u001b[39mValueError\u001b[39;00m(\n\u001b[0;32m   1290\u001b[0m             \u001b[39m\"\u001b[39m\u001b[39mnon-zero flags not allowed in calls to recv() on \u001b[39m\u001b[39m%s\u001b[39;00m\u001b[39m\"\u001b[39m \u001b[39m%\u001b[39m\n\u001b[0;32m   1291\u001b[0m             \u001b[39mself\u001b[39m\u001b[39m.\u001b[39m\u001b[39m__class__\u001b[39m)\n\u001b[1;32m-> 1292\u001b[0m     \u001b[39mreturn\u001b[39;00m \u001b[39mself\u001b[39;49m\u001b[39m.\u001b[39;49mread(buflen)\n\u001b[0;32m   1293\u001b[0m \u001b[39melse\u001b[39;00m:\n\u001b[0;32m   1294\u001b[0m     \u001b[39mreturn\u001b[39;00m \u001b[39msuper\u001b[39m()\u001b[39m.\u001b[39mrecv(buflen, flags)\n",
      "File \u001b[1;32mc:\\Users\\ACER\\anaconda3\\envs\\chaabi\\lib\\ssl.py:1165\u001b[0m, in \u001b[0;36mSSLSocket.read\u001b[1;34m(self, len, buffer)\u001b[0m\n\u001b[0;32m   1163\u001b[0m         \u001b[39mreturn\u001b[39;00m \u001b[39mself\u001b[39m\u001b[39m.\u001b[39m_sslobj\u001b[39m.\u001b[39mread(\u001b[39mlen\u001b[39m, buffer)\n\u001b[0;32m   1164\u001b[0m     \u001b[39melse\u001b[39;00m:\n\u001b[1;32m-> 1165\u001b[0m         \u001b[39mreturn\u001b[39;00m \u001b[39mself\u001b[39;49m\u001b[39m.\u001b[39;49m_sslobj\u001b[39m.\u001b[39;49mread(\u001b[39mlen\u001b[39;49m)\n\u001b[0;32m   1166\u001b[0m \u001b[39mexcept\u001b[39;00m SSLError \u001b[39mas\u001b[39;00m x:\n\u001b[0;32m   1167\u001b[0m     \u001b[39mif\u001b[39;00m x\u001b[39m.\u001b[39margs[\u001b[39m0\u001b[39m] \u001b[39m==\u001b[39m SSL_ERROR_EOF \u001b[39mand\u001b[39;00m \u001b[39mself\u001b[39m\u001b[39m.\u001b[39msuppress_ragged_eofs:\n",
      "\u001b[1;31mKeyboardInterrupt\u001b[0m: "
     ]
    }
   ],
   "source": [
    "from tqdm import tqdm\n",
    "\n",
    "def add_texts(texts, batch_size=100):\n",
    "    for i in tqdm(range(0, len(texts), batch_size)):\n",
    "        try:\n",
    "            vector_store.add_texts(\n",
    "                texts=texts[i:i+batch_size],\n",
    "            )\n",
    "        except Exception as e:\n",
    "            print(i, e)\n",
    "            continue\n",
    "\n",
    "add_texts(docs, batch_size=100)"
   ]
  }
 ],
 "metadata": {
  "kernelspec": {
   "display_name": "chaabi",
   "language": "python",
   "name": "python3"
  },
  "language_info": {
   "codemirror_mode": {
    "name": "ipython",
    "version": 3
   },
   "file_extension": ".py",
   "mimetype": "text/x-python",
   "name": "python",
   "nbconvert_exporter": "python",
   "pygments_lexer": "ipython3",
   "version": "3.10.13"
  }
 },
 "nbformat": 4,
 "nbformat_minor": 2
}
