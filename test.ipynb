{
 "cells": [
  {
   "cell_type": "code",
   "execution_count": 41,
   "metadata": {},
   "outputs": [],
   "source": [
    "import os\n",
    "import qdrant_client\n",
    "from dotenv import load_dotenv\n",
    "from langchain.vectorstores import Qdrant \n",
    "from langchain.embeddings.openai import OpenAIEmbeddings\n",
    "from langchain.document_loaders.csv_loader import CSVLoader\n",
    "from langchain.llms import OpenAI\n",
    "from langchain.chains import RetrievalQA"
   ]
  },
  {
   "cell_type": "code",
   "execution_count": 13,
   "metadata": {},
   "outputs": [],
   "source": [
    "# load enviorment variables\n",
    "\n",
    "load_dotenv()\n",
    "\n",
    "QDRANT_URL = os.getenv('QDRANT_URL')\n",
    "QDRANT_API_KEY = os.getenv('QDRANT_API_KEY')\n",
    "COLLECTION_NAME = os.getenv('QDRANT_COLLECTION_NAME')\n",
    "OPENAI_API_KEY = os.getenv('OPENAI_API_KEY')"
   ]
  },
  {
   "cell_type": "code",
   "execution_count": 14,
   "metadata": {},
   "outputs": [],
   "source": [
    "# create a qdrant client\n",
    "\n",
    "client = qdrant_client.QdrantClient(\n",
    "    url=QDRANT_URL,\n",
    "    api_key=QDRANT_API_KEY\n",
    ")\n"
   ]
  },
  {
   "cell_type": "code",
   "execution_count": 15,
   "metadata": {},
   "outputs": [],
   "source": [
    "# create vector store\n",
    "\n",
    "embeddings = OpenAIEmbeddings()\n",
    "\n",
    "vector_store = Qdrant(\n",
    "    client=client,\n",
    "    collection_name=COLLECTION_NAME,\n",
    "    embeddings=embeddings,\n",
    ")"
   ]
  },
  {
   "cell_type": "code",
   "execution_count": 36,
   "metadata": {},
   "outputs": [
    {
     "name": "stdout",
     "output_type": "stream",
     "text": [
      "Extracted bigBasketProducts.csv with 100 pages...\n",
      "index: 1\n",
      "product: Garlic Oil - Vegetarian Capsule 500 mg\n",
      "category: Beauty & Hygiene\n",
      "sub_category: Hair Care\n",
      "brand: Sri Sri Ayurveda\n",
      "sale_price: 220\n",
      "market_price: 220\n",
      "type: Hair Oil & Serum\n",
      "rating: 4.1\n",
      "description: This Product contains Garlic Oil that is known to help proper digestion, maintain proper cholesterol levels, support cardiovascular and also build immunity.  For Beauty tips, tricks & more visit https://bigbasket.blog/\n",
      "{'source': '4.1', 'row': 0}\n",
      "0\n"
     ]
    }
   ],
   "source": [
    "# load documents\n",
    "\n",
    "file_path = os.getenv('FILE_PATH')\n",
    "\n",
    "loader = CSVLoader(file_path=file_path, source_column=('rating'), csv_args={'delimiter': ','}, autodetect_encoding=True)\n",
    "documents = loader.load()\n",
    "documents = documents[:100]\n",
    "# docs = get_chunks(documents)\n",
    "\n",
    "print(f\"Extracted {file_path} with {len(documents)} pages...\")\n",
    "print(documents[0].page_content)\n",
    "print(documents[0].metadata)\n",
    "print(documents[0].metadata['row'])\n",
    "\n",
    "docs = [doc.page_content for doc in documents]"
   ]
  },
  {
   "cell_type": "code",
   "execution_count": 38,
   "metadata": {},
   "outputs": [
    {
     "data": {
      "text/plain": [
       "['37794dd505ff45c3926c8b9414225cd4',\n",
       " 'da805d8af6764d37a913d9aa1e4e0114',\n",
       " '0d0c979a891247cb8230c1a28d4da4c2',\n",
       " 'b9163e4b6d0d47afbc7acbc6843b768a',\n",
       " '16a83dc7c4c64fdf853a2ca7b90a18d9',\n",
       " '6f35aed659504e30b620ae1439fbfd6f',\n",
       " '21966182c67a4b7a8122ea1ed2527ebc',\n",
       " '732163647e214d9c97b4efb0a8f925dc',\n",
       " '7401b867a54c41d59dbab40a2bcf93b3',\n",
       " 'ae0cf95b485b4735a174540097219ea4',\n",
       " 'b4b2ec479fbe44a4adb01b3911851b91',\n",
       " '5589e03c9d0a4b899352784d80053b2a',\n",
       " '2298d7b65ee9495a84c570d63500a72d',\n",
       " '7310a9b82a32478fb5a41ca2b377d2d4',\n",
       " '776eb8d951c846d5a53d22485f8e69e6',\n",
       " '7177a49368e342548e6264dd8c8457f6',\n",
       " '590e6b2477c84a63ae28e5a37854fcb6',\n",
       " 'c9f5011ea5bb4b64b997647a7cb8e8d7',\n",
       " 'b558a30de0894a9bba6f674166d879cf',\n",
       " '76a31f04c60442a9a14e6109a29f8526',\n",
       " '3106ee54f50a4986a9af3acfedad710f',\n",
       " '8552fa6c5ea5439bb97e2c38848e3544',\n",
       " '310568bb1de7472f86bda5c424f86808',\n",
       " '706bf031649b40fcb08224796a0f2655',\n",
       " '00fa72456edf4189bbe99fb5c61acdd0',\n",
       " 'a57806f4d41e43cc92bfacbb10de7078',\n",
       " 'e530e953fe284dabb91df5c238cfcaf1',\n",
       " 'b1db7db29c564e2e941f74da00c1c963',\n",
       " 'cd1f97b745d74370b0586dbc5e4b954c',\n",
       " '660b8e47055d429fa6b95e8642324ca2',\n",
       " 'd30747bc40c0433aa729de65ce2b9060',\n",
       " 'cbe7d7b9d9f04152b077bf18e5c56176',\n",
       " '96760cbab20d485db4935a51ac0901bc',\n",
       " '5ed98df1efd445cf954c31ec5817c6c3',\n",
       " '256d696ee6194b47b6c31eca5f3cd89d',\n",
       " '6304b44fbc224be1871374306cd8d6bb',\n",
       " '51589eb4de874d2ba67dbf228706ce1e',\n",
       " '28b0609f20e049d5921f3782e25d587d',\n",
       " 'c18c93db20a94443bc7a4268f9021155',\n",
       " '4c363c6c933543f5a88bbd12faacbbce',\n",
       " '1b09a11f52bb4e6c896a33d5405c8e92',\n",
       " '7a0f5f76a13542c79e2d9851425c3b61',\n",
       " '698ba9ca5f064e999327d851fd1e6683',\n",
       " '3498e1d01b1348c9b31086ca8e56a010',\n",
       " '3ea094bc995e47d3ac067da20cb4d5ef',\n",
       " '44a957813e2e456ba2a456f24bdd516f',\n",
       " 'fe0adfdab60a4fda895f435f89499336',\n",
       " '2eaf7800d89f4abb97dcf9216a4fe88b',\n",
       " 'b468db8cfad54c949893cc41f8d1f615',\n",
       " '41335add196043a9b7da09cebb274b47',\n",
       " '554fd4397a134725a810ae742fa85fe1',\n",
       " '17d336073fba4805b7b85e5772899034',\n",
       " '92c6f418442e46c8ab0bb7d0050ce013',\n",
       " '1a5ed948bbfd4783b5a6d419d7980e75',\n",
       " '3feb5c27bd9649bca529070444118fc2',\n",
       " 'f6283c79f2b4485e9f98316423555c82',\n",
       " '1e22988ba40a4e1db16949ec3a903499',\n",
       " '86fac79ee18d40d3a5b63c893b1f5322',\n",
       " '8c88cea60a634176b49f276ee69e7fe1',\n",
       " 'b7ad6f7634a84d9a99bcc2045cf33cab',\n",
       " '4e988422f14945cdbe31a69bceea3afc',\n",
       " '711532e611724b4b9aa8a88cb9c7d0ad',\n",
       " 'd60037589f0a432d86c2d311a296e2d0',\n",
       " 'a2859f8b8025458fb8bfb652a96a34a2',\n",
       " '233a4312bd7644748a87acf21e96c19a',\n",
       " '8e4b64309a1b4c1eac149c208a36cb22',\n",
       " 'c4cbf2f1a9994491a776006d1341fac1',\n",
       " 'a9c3ab8b2d224607a17ca182f7fba0f1',\n",
       " '13c4fc672c344b458c94db1cd2facf10',\n",
       " '33e1ac087e5c4b85a36dd7303c1652d5',\n",
       " '178d15e0109e4359a6dd5e04fdbc7991',\n",
       " '98bd668795f546579f7c1e812a688300',\n",
       " 'a05b020ac55843f8bf44adfa721b750c',\n",
       " '43918c7f9bec4768a03b3805d8b99e56',\n",
       " 'de9b8a2f12cb4ad182d53d8214fe412b',\n",
       " '140ae2ce1a9c4d4abbd25aa5d24bb554',\n",
       " 'c4bf237238524aabb1f5fc4b3d59178d',\n",
       " 'd5c85c9a3d4243878844ae5d50183504',\n",
       " '39ca2cdaeab942fab21e4dffceadc298',\n",
       " '73105812eba24bbfb6dafacffcdcec8a',\n",
       " '988e02e7576a4585a4cd10956f722e3c',\n",
       " '0a1e2337be9d4418bcd20d9e962482fd',\n",
       " '0a4c8542663c4515a0547ea74deac730',\n",
       " '1d10b6f406b646f1b0723824b70cb857',\n",
       " 'e0316262fd4648968751edacab1ad428',\n",
       " 'c4ac93c4839b40cbbf1e7624644bac82',\n",
       " '898e93e775824c0b915f14dcdaa72c71',\n",
       " '5f0cd5763ea846908ae24a9ba93aba26',\n",
       " '3c14712be61b492682874ac5f9dc31e1',\n",
       " 'bb3088e2500f4bec91e3737c906c365d',\n",
       " '17a542f6f348425bb94140b4697d717b',\n",
       " '8913f4b8bad44cc3900aade6d1830793',\n",
       " '0afc173945d94f0184a1e38d444a3c53',\n",
       " '1b986141c52745c0a516ba56ce46a5c9',\n",
       " 'ff45a18c79134660bdc9fab3b80558d6',\n",
       " 'bf36057ab82d43e49113d6bcb0762313',\n",
       " 'fafd45dbf82d4e6eaba314dee44f57e1',\n",
       " 'fbc127f2c3bc48e0ae4c45e33fc072ca',\n",
       " '5344f3dc061b45269e7b8b04b479fb93',\n",
       " '716dc5469b934e0d92228db9ffc39fab']"
      ]
     },
     "execution_count": 38,
     "metadata": {},
     "output_type": "execute_result"
    }
   ],
   "source": [
    "# add documents to vector store\n",
    "\n",
    "vector_store.add_texts(\n",
    "    texts=docs,\n",
    ")"
   ]
  },
  {
   "cell_type": "code",
   "execution_count": 42,
   "metadata": {},
   "outputs": [],
   "source": [
    "# plug vector store into retrieval chain\n",
    "\n",
    "llm = OpenAI(openai_api_key=OPENAI_API_KEY)\n",
    "\n",
    "qa = RetrievalQA.from_chain_type(\n",
    "    llm=llm,\n",
    "    chain_type=\"stuff\",\n",
    "    retriever=vector_store.as_retriever(),\n",
    ")"
   ]
  },
  {
   "cell_type": "code",
   "execution_count": 43,
   "metadata": {},
   "outputs": [
    {
     "name": "stdout",
     "output_type": "stream",
     "text": [
      "> What is the best product for hair growth?\n",
      " It depends on your individual hair type and needs. Biotin & Collagen Volumizing Hair Shampoo + Biotin & Collagen Hair Conditioner and Argan-Liquid Gold Hair Spa both contain ingredients that help promote healthy hair growth, like Biotin, Hydrolyzed Collagen, and Argan Oil. It's best to do some research and find a product that best suits your individual hair type and needs.\n",
      "\n"
     ]
    }
   ],
   "source": [
    "question = 'What is the best product for hair growth?'\n",
    "print('>', question)\n",
    "print(qa.run(question), end=\"\\n\\n\")"
   ]
  },
  {
   "cell_type": "code",
   "execution_count": null,
   "metadata": {},
   "outputs": [],
   "source": []
  }
 ],
 "metadata": {
  "kernelspec": {
   "display_name": "chaabi",
   "language": "python",
   "name": "python3"
  },
  "language_info": {
   "codemirror_mode": {
    "name": "ipython",
    "version": 3
   },
   "file_extension": ".py",
   "mimetype": "text/x-python",
   "name": "python",
   "nbconvert_exporter": "python",
   "pygments_lexer": "ipython3",
   "version": "3.10.13"
  }
 },
 "nbformat": 4,
 "nbformat_minor": 2
}
